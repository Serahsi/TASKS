{
 "cells": [
  {
   "cell_type": "markdown",
   "id": "6c9ef7ca",
   "metadata": {
    "deletable": false,
    "editable": false
   },
   "source": [
    "<a href=\"https://clarusway.com/contact-us/\"><img align=\"center\" src=\"https://i.ibb.co/B43qn24/officially-licensed-logo.png\" alt=\"Open in Clarusway LMS\" width=\"110\" height=\"200\" title=\"This notebook is licensed by Clarusway IT training school. Please contact the authorized persons about the conditions under which you can use or share.\"></a>"
   ]
  },
  {
   "cell_type": "markdown",
   "id": "77a5ec5c",
   "metadata": {},
   "source": [
    "<hr>\n",
    "\n",
    "<a href=\"https://lms.clarusway.com/mod/lesson/view.php?id=2463&pageid=4531&startlastseen=no\"><img align=\"center\" src=\"https://i.ibb.co/6Z5pQxD/lmss.png\" alt=\"Open in Clarusway LMS\" width=\"70\" height=\"200\" title=\"Open Clarusway Learning Management Sytem\"></a>\n",
    "\n",
    "<a href=\"https://github.com/clarusway/DS-DE-0322-Students/blob/main/3-%20Classes%26Labs/2-DAwPY/DAwPy_S01_(Numpy_Arrays).ipynb\"><img align=\"left\" src=\"https://i.ibb.co/n3HWyQX/github-logo.png\" alt=\"Open in Clarusway GitHub\" width=\"90\" height=\"150\" title=\"Open and Execute in Clarusway GitHub Repository\"></a>\n",
    "\n",
    "<a href=\"https://nbviewer.org/github/4dsolutions/clarusway_data_analysis/blob/main/DAwPy_S1_%28Numpy_Arrays%29/DAwPy_S1_%28Numpy_Arrays%29.ipynb\"><img align=\"right\" src=\"https://i.ibb.co/48wtV8c/nbviewer-badge.png\" alt=\"Open in nbviewer\" width=\"100\" height=\"100\" title=\"Open and Execute in nbviewer\"></a><br/>\n",
    "\n",
    "<hr>\n",
    "\n",
    "<p style=\"text-align: center;\"><img src=\"https://i.ibb.co/Rpz9L36/clarusway-logo-black.png\" width=\"500\" height=\"200\" class=\"img-fluid\" alt=\"CLRSWY_LOGO\"></p>\n",
    "\n",
    "<p style=\"text-align: center;\"><img src=\"https://i.ibb.co/XS0bxSH/best-bootcamps.png\" width=\"300\" height=\"200\" class=\"img-fluid\" alt=\"CLRSWY_LOGO\"></p>\n",
    "\n",
    "<p style=\"background-color:#E51A59; font-family:newtimeroman; color:#FDFEFE; font-size:130%; text-align:center; border-radius:10px 10px;\">WAY TO REINVENT YOURSELF</p>\n",
    "\n",
    "<p style=\"text-align: center;\"><img src=\"https://i.ibb.co/99DQ3TY/DS-Courses.png\" class=\"img-fluid\" \n",
    "alt=\"CLRSWY_Courses\"></p>"
   ]
  },
  {
   "cell_type": "markdown",
   "id": "a487007e",
   "metadata": {
    "id": "wGIwWxbXrbsZ"
   },
   "source": [
    "# <p style=\"background-color:#9d4f8c; font-family:newtimeroman; color:#FFF9ED; font-size:150%; text-align:LEFT; border-radius:10px 10px;\">Tasks for Session-1</p>"
   ]
  },
  {
   "cell_type": "markdown",
   "id": "2d3b4cae",
   "metadata": {},
   "source": [
    "## Task 1 : Task: Random Matrix Generation and Operations:\n",
    "\n",
    "### 1a. Generate a 4x4 matrix filled with random values."
   ]
  },
  {
   "cell_type": "code",
   "execution_count": 2,
   "id": "15a5358c",
   "metadata": {},
   "outputs": [],
   "source": [
    "import numpy as np"
   ]
  },
  {
   "cell_type": "code",
   "execution_count": 11,
   "id": "a868c845",
   "metadata": {},
   "outputs": [
    {
     "data": {
      "text/plain": [
       "array([[0.31551329, 0.60237987, 0.8482225 , 0.92918704],\n",
       "       [0.93006519, 0.13668183, 0.93172346, 0.92748642],\n",
       "       [0.75370083, 0.77400484, 0.59631941, 0.43225808],\n",
       "       [0.6548541 , 0.07039324, 0.17261709, 0.40323911]])"
      ]
     },
     "execution_count": 11,
     "metadata": {},
     "output_type": "execute_result"
    }
   ],
   "source": [
    "matrix1 = np.random.rand(16).reshape(4,4)\n",
    "matrix1"
   ]
  },
  {
   "cell_type": "code",
   "execution_count": 24,
   "id": "76f34373",
   "metadata": {},
   "outputs": [
    {
     "data": {
      "text/plain": [
       "array([[6, 5, 2, 2],\n",
       "       [7, 2, 5, 6],\n",
       "       [7, 7, 4, 1],\n",
       "       [5, 7, 2, 3]])"
      ]
     },
     "execution_count": 24,
     "metadata": {},
     "output_type": "execute_result"
    }
   ],
   "source": [
    "matrix2 = np.random.randint(1, 8, 16)\n",
    "matrix2 = matrix2.reshape(4,4)\n",
    "matrix2"
   ]
  },
  {
   "cell_type": "markdown",
   "id": "60485ee8",
   "metadata": {},
   "source": [
    "### 1b. Calculate the row sums of the matrix."
   ]
  },
  {
   "cell_type": "code",
   "execution_count": 26,
   "id": "7c823f50",
   "metadata": {},
   "outputs": [
    {
     "data": {
      "text/plain": [
       "array([2.6953027 , 2.9259569 , 2.55628317, 1.30110354])"
      ]
     },
     "execution_count": 26,
     "metadata": {},
     "output_type": "execute_result"
    }
   ],
   "source": [
    "np.sum(matrix1, axis=1)"
   ]
  },
  {
   "cell_type": "code",
   "execution_count": 27,
   "id": "8066871f",
   "metadata": {},
   "outputs": [
    {
     "data": {
      "text/plain": [
       "array([15, 20, 19, 17])"
      ]
     },
     "execution_count": 27,
     "metadata": {},
     "output_type": "execute_result"
    }
   ],
   "source": [
    "np.sum(matrix2, axis=1)"
   ]
  },
  {
   "cell_type": "code",
   "execution_count": 32,
   "id": "463ee2a4",
   "metadata": {},
   "outputs": [
    {
     "data": {
      "text/plain": [
       "array([15, 20, 19, 17])"
      ]
     },
     "execution_count": 32,
     "metadata": {},
     "output_type": "execute_result"
    }
   ],
   "source": [
    "matrix2.sum(axis=1)"
   ]
  },
  {
   "cell_type": "markdown",
   "id": "3e1e7afb",
   "metadata": {},
   "source": [
    "### 1c. Calculate the column means of the matrix."
   ]
  },
  {
   "cell_type": "code",
   "execution_count": 34,
   "id": "2b478357",
   "metadata": {},
   "outputs": [
    {
     "data": {
      "text/plain": [
       "array([0.66353335, 0.39586495, 0.63722062, 0.67304266])"
      ]
     },
     "execution_count": 34,
     "metadata": {},
     "output_type": "execute_result"
    }
   ],
   "source": [
    "np.mean(matrix1, axis=0)"
   ]
  },
  {
   "cell_type": "code",
   "execution_count": 35,
   "id": "ffac8815",
   "metadata": {},
   "outputs": [
    {
     "data": {
      "text/plain": [
       "array([6.25, 5.25, 3.25, 3.  ])"
      ]
     },
     "execution_count": 35,
     "metadata": {},
     "output_type": "execute_result"
    }
   ],
   "source": [
    "np.mean(matrix2, axis=0)"
   ]
  },
  {
   "cell_type": "markdown",
   "id": "e80c281d",
   "metadata": {},
   "source": [
    "### 1d. Find the sum of the diagonal elements of the matrix."
   ]
  },
  {
   "cell_type": "code",
   "execution_count": 40,
   "id": "42ab977a",
   "metadata": {},
   "outputs": [
    {
     "data": {
      "text/plain": [
       "1.4517536435822134"
      ]
     },
     "execution_count": 40,
     "metadata": {},
     "output_type": "execute_result"
    }
   ],
   "source": [
    "matrix1.diagonal().sum()"
   ]
  },
  {
   "cell_type": "code",
   "execution_count": 42,
   "id": "90d35380",
   "metadata": {},
   "outputs": [
    {
     "data": {
      "text/plain": [
       "15"
      ]
     },
     "execution_count": 42,
     "metadata": {},
     "output_type": "execute_result"
    }
   ],
   "source": [
    "matrix2.diagonal().sum()"
   ]
  },
  {
   "cell_type": "markdown",
   "id": "ac2ea67c",
   "metadata": {},
   "source": [
    "## Task 2: Array Sorting and Indexing:\n",
    "\n",
    "### 2a. Create an array of random numbers from 1 to 20."
   ]
  },
  {
   "cell_type": "code",
   "execution_count": 50,
   "id": "dfe64687",
   "metadata": {},
   "outputs": [
    {
     "data": {
      "text/plain": [
       "array([14, 15, 13,  6,  7, 12,  7,  7,  9,  3, 13, 12, 10,  5, 17, 10, 15,\n",
       "       18,  5,  8])"
      ]
     },
     "execution_count": 50,
     "metadata": {},
     "output_type": "execute_result"
    }
   ],
   "source": [
    "array1 = np.random.randint(1, 20, 20)\n",
    "array1"
   ]
  },
  {
   "cell_type": "markdown",
   "id": "66185aa8",
   "metadata": {},
   "source": [
    "### 2b. Sort the array in descending order."
   ]
  },
  {
   "cell_type": "code",
   "execution_count": 54,
   "id": "8dc5199f",
   "metadata": {},
   "outputs": [
    {
     "data": {
      "text/plain": [
       "array([18, 17, 15, 15, 14, 13, 13, 12, 12, 10, 10,  9,  8,  7,  7,  7,  6,\n",
       "        5,  5,  3])"
      ]
     },
     "execution_count": 54,
     "metadata": {},
     "output_type": "execute_result"
    }
   ],
   "source": [
    "np.sort(array1)[::-1]"
   ]
  },
  {
   "cell_type": "markdown",
   "id": "747496e7",
   "metadata": {},
   "source": [
    "### 2c. Find the minimum and maximum elements of the array."
   ]
  },
  {
   "cell_type": "code",
   "execution_count": 57,
   "id": "287685fa",
   "metadata": {},
   "outputs": [
    {
     "data": {
      "text/plain": [
       "(18, 3)"
      ]
     },
     "execution_count": 57,
     "metadata": {},
     "output_type": "execute_result"
    }
   ],
   "source": [
    "max1 = np.max(array1)\n",
    "min1 = np.min(array1)\n",
    "max1, min1"
   ]
  },
  {
   "cell_type": "markdown",
   "id": "50586a09",
   "metadata": {},
   "source": [
    "### 2d. Select the first half of the array (the first 10 elements) and reverse them."
   ]
  },
  {
   "cell_type": "code",
   "execution_count": 60,
   "id": "6f06602e",
   "metadata": {},
   "outputs": [
    {
     "data": {
      "text/plain": [
       "array([ 3,  9,  7,  7, 12,  7,  6, 13, 15, 14])"
      ]
     },
     "execution_count": 60,
     "metadata": {},
     "output_type": "execute_result"
    }
   ],
   "source": [
    "array1[:10][::-1]"
   ]
  },
  {
   "cell_type": "markdown",
   "id": "9562b807",
   "metadata": {},
   "source": [
    "## Task 3: Convert the Arrays:\n",
    "\n",
    "### 3a. Create an array with elements [-1, 0, 1, 2, 3]."
   ]
  },
  {
   "cell_type": "code",
   "execution_count": 61,
   "id": "24dff028",
   "metadata": {},
   "outputs": [
    {
     "data": {
      "text/plain": [
       "array([-1,  0,  1,  2,  3])"
      ]
     },
     "execution_count": 61,
     "metadata": {},
     "output_type": "execute_result"
    }
   ],
   "source": [
    "array2 = np.array([-1, 0, 1, 2, 3])\n",
    "array2"
   ]
  },
  {
   "cell_type": "markdown",
   "id": "d70db02f",
   "metadata": {},
   "source": [
    "### 3b. Convert the array into a matrix and square each element."
   ]
  },
  {
   "cell_type": "code",
   "execution_count": 66,
   "id": "ca57c1e6",
   "metadata": {},
   "outputs": [
    {
     "data": {
      "text/plain": [
       "array([[-1,  0,  1,  2,  3]])"
      ]
     },
     "execution_count": 66,
     "metadata": {},
     "output_type": "execute_result"
    }
   ],
   "source": [
    "new_array = array2.reshape(1,5)\n",
    "new_array"
   ]
  },
  {
   "cell_type": "code",
   "execution_count": 67,
   "id": "947cebfa",
   "metadata": {},
   "outputs": [
    {
     "data": {
      "text/plain": [
       "array([[1, 0, 1, 4, 9]])"
      ]
     },
     "execution_count": 67,
     "metadata": {},
     "output_type": "execute_result"
    }
   ],
   "source": [
    "new_array**2"
   ]
  },
  {
   "cell_type": "markdown",
   "id": "012014fd",
   "metadata": {},
   "source": [
    "### 3c. Convert the matrix back to a one-dimensional array."
   ]
  },
  {
   "cell_type": "code",
   "execution_count": 74,
   "id": "382b4508",
   "metadata": {},
   "outputs": [
    {
     "data": {
      "text/plain": [
       "array([-1,  0,  1,  2,  3])"
      ]
     },
     "execution_count": 74,
     "metadata": {},
     "output_type": "execute_result"
    }
   ],
   "source": [
    "x = new_array.reshape(5)\n",
    "x"
   ]
  },
  {
   "cell_type": "code",
   "execution_count": null,
   "id": "5457ffe7",
   "metadata": {},
   "outputs": [],
   "source": []
  },
  {
   "cell_type": "markdown",
   "id": "02d026ae",
   "metadata": {},
   "source": [
    "### 3d. Convert each element of the array to its absolute value"
   ]
  },
  {
   "cell_type": "code",
   "execution_count": 73,
   "id": "47de9640",
   "metadata": {},
   "outputs": [
    {
     "data": {
      "text/plain": [
       "array([1, 0, 1, 2, 3])"
      ]
     },
     "execution_count": 73,
     "metadata": {},
     "output_type": "execute_result"
    }
   ],
   "source": [
    "np.absolute(x)"
   ]
  },
  {
   "cell_type": "markdown",
   "id": "60794f9a",
   "metadata": {},
   "source": [
    "<hr>\n",
    "\n",
    "## <p style=\"background-color:#FDFEFE; font-family:newtimeroman; color:#9d4f8c; font-size:150%; text-align:center; border-radius:10px 10px;\">The End of Task</p>\n",
    "\n",
    "\n",
    "<p style=\"text-align: center;\"><img src=\"https://i.ibb.co/99DQ3TY/DS-Courses.png\" class=\"img-fluid\" \n",
    "alt=\"CLRSWY\"></p>\n",
    "\n",
    "\n",
    "<br><br><br>\n",
    "\n",
    "<p style=\"text-align: center;\"><img src=\"https://i.ibb.co/Rpz9L36/clarusway-logo-black.png\" width=\"450\" height=\"200\" class=\"img-fluid\" alt=\"CLRSWY_LOGO\"></p>\n",
    "\n",
    "<p style=\"background-color:#E51A59; font-family:newtimeroman; color:#FDFEFE; font-size:130%; text-align:center; border-radius:10px 10px;\">WAY TO REINVENT YOURSELF</p>"
   ]
  },
  {
   "cell_type": "markdown",
   "id": "4008c104",
   "metadata": {
    "deletable": false,
    "editable": false
   },
   "source": [
    "<a href=\"https://clarusway.com/contact-us/\"><img align=\"center\" src=\"https://i.ibb.co/B43qn24/officially-licensed-logo.png\" alt=\"Open in Clarusway LMS\" width=\"110\" height=\"200\" title=\"This notebook is licensed by Clarusway IT training school. Please contact the authorized persons about the conditions under which you can use or share.\"></a>"
   ]
  }
 ],
 "metadata": {
  "kernelspec": {
   "display_name": "Python 3 (ipykernel)",
   "language": "python",
   "name": "python3"
  },
  "language_info": {
   "codemirror_mode": {
    "name": "ipython",
    "version": 3
   },
   "file_extension": ".py",
   "mimetype": "text/x-python",
   "name": "python",
   "nbconvert_exporter": "python",
   "pygments_lexer": "ipython3",
   "version": "3.11.5"
  },
  "toc": {
   "base_numbering": 1,
   "nav_menu": {},
   "number_sections": false,
   "sideBar": true,
   "skip_h1_title": false,
   "title_cell": "Table of Contents",
   "title_sidebar": "Contents",
   "toc_cell": false,
   "toc_position": {},
   "toc_section_display": true,
   "toc_window_display": true
  }
 },
 "nbformat": 4,
 "nbformat_minor": 5
}
